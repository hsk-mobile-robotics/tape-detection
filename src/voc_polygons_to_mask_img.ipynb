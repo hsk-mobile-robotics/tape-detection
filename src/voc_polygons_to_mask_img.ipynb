{
 "cells": [
  {
   "cell_type": "code",
   "execution_count": 6,
   "metadata": {},
   "outputs": [],
   "source": [
    "import os\n",
    "from pathlib import Path\n",
    "import xml.etree.ElementTree as ET\n",
    "import numpy as np\n",
    "import cv2\n",
    "from tqdm.auto import tqdm"
   ]
  },
  {
   "cell_type": "code",
   "execution_count": 47,
   "metadata": {},
   "outputs": [
    {
     "name": "stderr",
     "output_type": "stream",
     "text": [
      "100%|██████████| 101/101 [00:00<00:00, 1810.22it/s]"
     ]
    },
    {
     "name": "stdout",
     "output_type": "stream",
     "text": [
      "asdf\n",
      "asdf\n",
      "asdf\n",
      "asdf\n",
      "asdf\n",
      "asdf\n",
      "asdf\n",
      "asdf\n",
      "asdf\n",
      "asdf\n",
      "asdf\n",
      "asdf\n",
      "asdf\n",
      "asdf\n",
      "asdf\n",
      "asdf\n",
      "asdf\n",
      "asdf\n",
      "asdf\n",
      "asdf\n",
      "asdf\n",
      "asdf\n",
      "asdf\n",
      "asdf\n",
      "asdf\n",
      "asdf\n",
      "asdf\n",
      "asdf\n",
      "asdf\n",
      "asdf\n",
      "asdf\n",
      "asdf\n",
      "asdf\n",
      "asdf\n",
      "asdf\n",
      "asdf\n",
      "asdf\n",
      "asdf\n",
      "asdf\n",
      "asdf\n",
      "asdf\n",
      "asdf\n",
      "asdf\n",
      "asdf\n",
      "asdf\n",
      "asdf\n",
      "asdf\n",
      "asdf\n",
      "asdf\n",
      "asdf\n",
      "asdf\n",
      "asdf\n",
      "asdf\n",
      "asdf\n",
      "asdf\n",
      "asdf\n",
      "asdf\n",
      "asdf\n",
      "asdf\n",
      "asdf\n",
      "asdf\n",
      "asdf\n",
      "asdf\n",
      "asdf\n",
      "asdf\n",
      "asdf\n",
      "asdf\n",
      "asdf\n",
      "asdf\n",
      "asdf\n",
      "asdf\n",
      "asdf\n",
      "asdf\n",
      "asdf\n",
      "asdf\n",
      "asdf\n",
      "asdf\n",
      "asdf\n",
      "asdf\n",
      "asdf\n",
      "asdf\n",
      "asdf\n",
      "asdf\n",
      "asdf\n",
      "asdf\n",
      "asdf\n",
      "asdf\n",
      "asdf\n",
      "asdf\n",
      "asdf\n",
      "asdf\n",
      "asdf\n",
      "asdf\n",
      "asdf\n",
      "asdf\n",
      "asdf\n",
      "asdf\n",
      "asdf\n",
      "asdf\n",
      "asdf\n",
      "asdf\n"
     ]
    },
    {
     "name": "stderr",
     "output_type": "stream",
     "text": [
      "\n"
     ]
    }
   ],
   "source": [
    "def create_masks_from_xml(xml_dir, output_path, class_names_to_IDs):\n",
    "    # Create the output directory if it doesn't exist\n",
    "    output_path = Path(output_path)\n",
    "    output_path.mkdir(parents=True, exist_ok=True)\n",
    "\n",
    "    # Get a list of all XML files in the specified directory\n",
    "    xml_files = [f for f in os.listdir(xml_dir) if f.endswith('.xml')]\n",
    "\n",
    "    for xml_file in tqdm(xml_files):\n",
    "        # Load the XML file\n",
    "        xml_path = os.path.join(xml_dir, xml_file)\n",
    "        tree = ET.parse(xml_path)\n",
    "        root = tree.getroot()\n",
    "\n",
    "        # Create an empty mask image \n",
    "        width = int(root.find('size/width').text)\n",
    "        height = int(root.find('size/height').text)\n",
    "        mask = np.zeros((height, width), dtype=np.uint8)\n",
    "\n",
    "        # Iterate through the 'object' elements to extract polygon coordinates\n",
    "        for obj in root.findall('object'):\n",
    "            polygon = obj.find('polygon')\n",
    "            if polygon is not None:\n",
    "                polygon_coords = []\n",
    "                for point in polygon:\n",
    "                    if point.tag.startswith('x'):\n",
    "                        x = float(point.text)\n",
    "                        y = float(polygon.find(f'y{point.tag[1:]}').text)\n",
    "                        polygon_coords.append((x, y))\n",
    "                class_name = obj.find('name').text\n",
    "                cv2.fillPoly(mask, [np.array(polygon_coords, dtype=np.int32)], color=class_names_to_IDs[class_name])\n",
    "\n",
    "        filename = root.find('filename').text\n",
    "\n",
    "        if Path(filename).stem != Path(xml_file).stem:\n",
    "            print(f'XML file {Path(xml_file).stem} contains incorrect image filename!')\n",
    "\n",
    "        # Save the mask image with the same filename as in the XML\n",
    "        # mask_filename = Path(filename).stem + '_mask.png'\n",
    "        mask_filename = Path(filename).stem + '.png'\n",
    "        mask_path = os.path.join(output_path, mask_filename)\n",
    "        cv2.imwrite(mask_path, mask)\n",
    "\n",
    "\n",
    "class_names_to_IDs = {\n",
    "    'VirtualWall': 1, \n",
    "    'BarrierTape': 2\n",
    "}\n",
    "xml_directory = '../data/RotateBarrier.v4i.voc/valid/'  \n",
    "output_directory = '../data/RotateBarrier.v4i.voc/valid_masks/'  \n",
    "create_masks_from_xml(xml_directory, output_directory, class_names_to_IDs)\n"
   ]
  },
  {
   "cell_type": "code",
   "execution_count": 22,
   "metadata": {},
   "outputs": [
    {
     "name": "stdout",
     "output_type": "stream",
     "text": [
      "poly=[[10, 10], [10, 20], [40, 10], [10, 10]]\n",
      "pts=array([[10, 10],\n",
      "       [10, 20],\n",
      "       [40, 10],\n",
      "       [10, 10]], dtype=int32)\n",
      "[pts]=[array([[10, 10],\n",
      "       [10, 20],\n",
      "       [40, 10],\n",
      "       [10, 10]], dtype=int32)]\n"
     ]
    },
    {
     "data": {
      "text/plain": [
       "<matplotlib.image.AxesImage at 0x7f3bdb0ef8c0>"
      ]
     },
     "execution_count": 22,
     "metadata": {},
     "output_type": "execute_result"
    },
    {
     "data": {
      "image/png": "[encoded data removed]",
      "text/plain": [
       "<Figure size 640x480 with 1 Axes>"
      ]
     },
     "metadata": {},
     "output_type": "display_data"
    }
   ],
   "source": [
    "import matplotlib.pyplot as plt\n",
    "\n",
    "img = np.zeros((50, 50))\n",
    "poly = [[10, 10], [10, 20], [40, 10], [10, 10]]\n",
    "print(f'{poly=}')\n",
    "\n",
    "pts = np.array(poly, dtype=np.int32)\n",
    "print(f'{pts=}')\n",
    "print(f'{[pts]=}')\n",
    "# pts = pts.reshape((-1, 1, 2))\n",
    "cv2.fillPoly(img, [pts], color=255)\n",
    "\n",
    "plt.imshow(img)"
   ]
  },
  {
   "cell_type": "code",
   "execution_count": null,
   "metadata": {},
   "outputs": [],
   "source": []
  }
 ],
 "metadata": {
  "kernelspec": {
   "display_name": "dev_env",
   "language": "python",
   "name": "python3"
  },
  "language_info": {
   "codemirror_mode": {
    "name": "ipython",
    "version": 3
   },
   "file_extension": ".py",
   "mimetype": "text/x-python",
   "name": "python",
   "nbconvert_exporter": "python",
   "pygments_lexer": "ipython3",
   "version": "3.12.1"
  }
 },
 "nbformat": 4,
 "nbformat_minor": 2
}
